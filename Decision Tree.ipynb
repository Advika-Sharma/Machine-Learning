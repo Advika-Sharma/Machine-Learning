{
 "cells": [
  {
   "cell_type": "code",
   "execution_count": 161,
   "id": "6ee7bd2c-15ec-493b-9500-05ced2fa6034",
   "metadata": {},
   "outputs": [],
   "source": [
    "import numpy as np "
   ]
  },
  {
   "cell_type": "code",
   "execution_count": 162,
   "id": "458b6fae-4066-41b9-99eb-c1e9a6e509bf",
   "metadata": {},
   "outputs": [],
   "source": [
    "import pandas as pd"
   ]
  },
  {
   "cell_type": "code",
   "execution_count": 163,
   "id": "68d8360b-1306-4026-b7fb-e2ed675df7bd",
   "metadata": {},
   "outputs": [],
   "source": [
    "df=pd.read_csv(\"drug200.csv\")"
   ]
  },
  {
   "cell_type": "code",
   "execution_count": 164,
   "id": "44897420-1095-4b1c-96f2-e9650bcdacaa",
   "metadata": {},
   "outputs": [
    {
     "data": {
      "text/html": [
       "<div>\n",
       "<style scoped>\n",
       "    .dataframe tbody tr th:only-of-type {\n",
       "        vertical-align: middle;\n",
       "    }\n",
       "\n",
       "    .dataframe tbody tr th {\n",
       "        vertical-align: top;\n",
       "    }\n",
       "\n",
       "    .dataframe thead th {\n",
       "        text-align: right;\n",
       "    }\n",
       "</style>\n",
       "<table border=\"1\" class=\"dataframe\">\n",
       "  <thead>\n",
       "    <tr style=\"text-align: right;\">\n",
       "      <th></th>\n",
       "      <th>Age</th>\n",
       "      <th>Sex</th>\n",
       "      <th>BP</th>\n",
       "      <th>Cholesterol</th>\n",
       "      <th>Na_to_K</th>\n",
       "      <th>Drug</th>\n",
       "    </tr>\n",
       "  </thead>\n",
       "  <tbody>\n",
       "    <tr>\n",
       "      <th>0</th>\n",
       "      <td>23</td>\n",
       "      <td>F</td>\n",
       "      <td>HIGH</td>\n",
       "      <td>HIGH</td>\n",
       "      <td>25.355</td>\n",
       "      <td>drugY</td>\n",
       "    </tr>\n",
       "    <tr>\n",
       "      <th>1</th>\n",
       "      <td>47</td>\n",
       "      <td>M</td>\n",
       "      <td>LOW</td>\n",
       "      <td>HIGH</td>\n",
       "      <td>13.093</td>\n",
       "      <td>drugC</td>\n",
       "    </tr>\n",
       "    <tr>\n",
       "      <th>2</th>\n",
       "      <td>47</td>\n",
       "      <td>M</td>\n",
       "      <td>LOW</td>\n",
       "      <td>HIGH</td>\n",
       "      <td>10.114</td>\n",
       "      <td>drugC</td>\n",
       "    </tr>\n",
       "    <tr>\n",
       "      <th>3</th>\n",
       "      <td>28</td>\n",
       "      <td>F</td>\n",
       "      <td>NORMAL</td>\n",
       "      <td>HIGH</td>\n",
       "      <td>7.798</td>\n",
       "      <td>drugX</td>\n",
       "    </tr>\n",
       "    <tr>\n",
       "      <th>4</th>\n",
       "      <td>61</td>\n",
       "      <td>F</td>\n",
       "      <td>LOW</td>\n",
       "      <td>HIGH</td>\n",
       "      <td>18.043</td>\n",
       "      <td>drugY</td>\n",
       "    </tr>\n",
       "    <tr>\n",
       "      <th>...</th>\n",
       "      <td>...</td>\n",
       "      <td>...</td>\n",
       "      <td>...</td>\n",
       "      <td>...</td>\n",
       "      <td>...</td>\n",
       "      <td>...</td>\n",
       "    </tr>\n",
       "    <tr>\n",
       "      <th>195</th>\n",
       "      <td>56</td>\n",
       "      <td>F</td>\n",
       "      <td>LOW</td>\n",
       "      <td>HIGH</td>\n",
       "      <td>11.567</td>\n",
       "      <td>drugC</td>\n",
       "    </tr>\n",
       "    <tr>\n",
       "      <th>196</th>\n",
       "      <td>16</td>\n",
       "      <td>M</td>\n",
       "      <td>LOW</td>\n",
       "      <td>HIGH</td>\n",
       "      <td>12.006</td>\n",
       "      <td>drugC</td>\n",
       "    </tr>\n",
       "    <tr>\n",
       "      <th>197</th>\n",
       "      <td>52</td>\n",
       "      <td>M</td>\n",
       "      <td>NORMAL</td>\n",
       "      <td>HIGH</td>\n",
       "      <td>9.894</td>\n",
       "      <td>drugX</td>\n",
       "    </tr>\n",
       "    <tr>\n",
       "      <th>198</th>\n",
       "      <td>23</td>\n",
       "      <td>M</td>\n",
       "      <td>NORMAL</td>\n",
       "      <td>NORMAL</td>\n",
       "      <td>14.020</td>\n",
       "      <td>drugX</td>\n",
       "    </tr>\n",
       "    <tr>\n",
       "      <th>199</th>\n",
       "      <td>40</td>\n",
       "      <td>F</td>\n",
       "      <td>LOW</td>\n",
       "      <td>NORMAL</td>\n",
       "      <td>11.349</td>\n",
       "      <td>drugX</td>\n",
       "    </tr>\n",
       "  </tbody>\n",
       "</table>\n",
       "<p>200 rows × 6 columns</p>\n",
       "</div>"
      ],
      "text/plain": [
       "     Age Sex      BP Cholesterol  Na_to_K   Drug\n",
       "0     23   F    HIGH        HIGH   25.355  drugY\n",
       "1     47   M     LOW        HIGH   13.093  drugC\n",
       "2     47   M     LOW        HIGH   10.114  drugC\n",
       "3     28   F  NORMAL        HIGH    7.798  drugX\n",
       "4     61   F     LOW        HIGH   18.043  drugY\n",
       "..   ...  ..     ...         ...      ...    ...\n",
       "195   56   F     LOW        HIGH   11.567  drugC\n",
       "196   16   M     LOW        HIGH   12.006  drugC\n",
       "197   52   M  NORMAL        HIGH    9.894  drugX\n",
       "198   23   M  NORMAL      NORMAL   14.020  drugX\n",
       "199   40   F     LOW      NORMAL   11.349  drugX\n",
       "\n",
       "[200 rows x 6 columns]"
      ]
     },
     "execution_count": 164,
     "metadata": {},
     "output_type": "execute_result"
    }
   ],
   "source": [
    "df"
   ]
  },
  {
   "cell_type": "code",
   "execution_count": 165,
   "id": "b6ad7a1b-0095-4cc6-b4b1-6387f4e0756f",
   "metadata": {},
   "outputs": [
    {
     "data": {
      "text/plain": [
       "1200"
      ]
     },
     "execution_count": 165,
     "metadata": {},
     "output_type": "execute_result"
    }
   ],
   "source": [
    "df.size\n"
   ]
  },
  {
   "cell_type": "code",
   "execution_count": 166,
   "id": "0113d7e7-adc5-4d67-98f0-656eeda5c158",
   "metadata": {},
   "outputs": [
    {
     "data": {
      "text/plain": [
       "(200, 6)"
      ]
     },
     "execution_count": 166,
     "metadata": {},
     "output_type": "execute_result"
    }
   ],
   "source": [
    "df.shape"
   ]
  },
  {
   "cell_type": "code",
   "execution_count": 167,
   "id": "12bcf6e4-40b0-460c-9161-05255d30a728",
   "metadata": {},
   "outputs": [],
   "source": [
    "x=df.iloc[:,0:-1].values"
   ]
  },
  {
   "cell_type": "code",
   "execution_count": 168,
   "id": "0b2933c9-fe4f-40be-ac51-d810e7422369",
   "metadata": {},
   "outputs": [
    {
     "data": {
      "text/plain": [
       "array([[23, 'F', 'HIGH', 'HIGH', 25.355],\n",
       "       [47, 'M', 'LOW', 'HIGH', 13.093],\n",
       "       [47, 'M', 'LOW', 'HIGH', 10.114],\n",
       "       [28, 'F', 'NORMAL', 'HIGH', 7.798],\n",
       "       [61, 'F', 'LOW', 'HIGH', 18.043],\n",
       "       [22, 'F', 'NORMAL', 'HIGH', 8.607],\n",
       "       [49, 'F', 'NORMAL', 'HIGH', 16.275],\n",
       "       [41, 'M', 'LOW', 'HIGH', 11.037],\n",
       "       [60, 'M', 'NORMAL', 'HIGH', 15.171],\n",
       "       [43, 'M', 'LOW', 'NORMAL', 19.368],\n",
       "       [47, 'F', 'LOW', 'HIGH', 11.767],\n",
       "       [34, 'F', 'HIGH', 'NORMAL', 19.199],\n",
       "       [43, 'M', 'LOW', 'HIGH', 15.376],\n",
       "       [74, 'F', 'LOW', 'HIGH', 20.942],\n",
       "       [50, 'F', 'NORMAL', 'HIGH', 12.703],\n",
       "       [16, 'F', 'HIGH', 'NORMAL', 15.516],\n",
       "       [69, 'M', 'LOW', 'NORMAL', 11.455],\n",
       "       [43, 'M', 'HIGH', 'HIGH', 13.972],\n",
       "       [23, 'M', 'LOW', 'HIGH', 7.298],\n",
       "       [32, 'F', 'HIGH', 'NORMAL', 25.974],\n",
       "       [57, 'M', 'LOW', 'NORMAL', 19.128],\n",
       "       [63, 'M', 'NORMAL', 'HIGH', 25.917],\n",
       "       [47, 'M', 'LOW', 'NORMAL', 30.568],\n",
       "       [48, 'F', 'LOW', 'HIGH', 15.036],\n",
       "       [33, 'F', 'LOW', 'HIGH', 33.486],\n",
       "       [28, 'F', 'HIGH', 'NORMAL', 18.809],\n",
       "       [31, 'M', 'HIGH', 'HIGH', 30.366],\n",
       "       [49, 'F', 'NORMAL', 'NORMAL', 9.381],\n",
       "       [39, 'F', 'LOW', 'NORMAL', 22.697],\n",
       "       [45, 'M', 'LOW', 'HIGH', 17.951],\n",
       "       [18, 'F', 'NORMAL', 'NORMAL', 8.75],\n",
       "       [74, 'M', 'HIGH', 'HIGH', 9.567],\n",
       "       [49, 'M', 'LOW', 'NORMAL', 11.014],\n",
       "       [65, 'F', 'HIGH', 'NORMAL', 31.876],\n",
       "       [53, 'M', 'NORMAL', 'HIGH', 14.133],\n",
       "       [46, 'M', 'NORMAL', 'NORMAL', 7.285],\n",
       "       [32, 'M', 'HIGH', 'NORMAL', 9.445],\n",
       "       [39, 'M', 'LOW', 'NORMAL', 13.938],\n",
       "       [39, 'F', 'NORMAL', 'NORMAL', 9.709],\n",
       "       [15, 'M', 'NORMAL', 'HIGH', 9.084],\n",
       "       [73, 'F', 'NORMAL', 'HIGH', 19.221],\n",
       "       [58, 'F', 'HIGH', 'NORMAL', 14.239],\n",
       "       [50, 'M', 'NORMAL', 'NORMAL', 15.79],\n",
       "       [23, 'M', 'NORMAL', 'HIGH', 12.26],\n",
       "       [50, 'F', 'NORMAL', 'NORMAL', 12.295],\n",
       "       [66, 'F', 'NORMAL', 'NORMAL', 8.107],\n",
       "       [37, 'F', 'HIGH', 'HIGH', 13.091],\n",
       "       [68, 'M', 'LOW', 'HIGH', 10.291],\n",
       "       [23, 'M', 'NORMAL', 'HIGH', 31.686],\n",
       "       [28, 'F', 'LOW', 'HIGH', 19.796],\n",
       "       [58, 'F', 'HIGH', 'HIGH', 19.416],\n",
       "       [67, 'M', 'NORMAL', 'NORMAL', 10.898],\n",
       "       [62, 'M', 'LOW', 'NORMAL', 27.183],\n",
       "       [24, 'F', 'HIGH', 'NORMAL', 18.457],\n",
       "       [68, 'F', 'HIGH', 'NORMAL', 10.189],\n",
       "       [26, 'F', 'LOW', 'HIGH', 14.16],\n",
       "       [65, 'M', 'HIGH', 'NORMAL', 11.34],\n",
       "       [40, 'M', 'HIGH', 'HIGH', 27.826],\n",
       "       [60, 'M', 'NORMAL', 'NORMAL', 10.091],\n",
       "       [34, 'M', 'HIGH', 'HIGH', 18.703],\n",
       "       [38, 'F', 'LOW', 'NORMAL', 29.875],\n",
       "       [24, 'M', 'HIGH', 'NORMAL', 9.475],\n",
       "       [67, 'M', 'LOW', 'NORMAL', 20.693],\n",
       "       [45, 'M', 'LOW', 'NORMAL', 8.37],\n",
       "       [60, 'F', 'HIGH', 'HIGH', 13.303],\n",
       "       [68, 'F', 'NORMAL', 'NORMAL', 27.05],\n",
       "       [29, 'M', 'HIGH', 'HIGH', 12.856],\n",
       "       [17, 'M', 'NORMAL', 'NORMAL', 10.832],\n",
       "       [54, 'M', 'NORMAL', 'HIGH', 24.658],\n",
       "       [18, 'F', 'HIGH', 'NORMAL', 24.276],\n",
       "       [70, 'M', 'HIGH', 'HIGH', 13.967],\n",
       "       [28, 'F', 'NORMAL', 'HIGH', 19.675],\n",
       "       [24, 'F', 'NORMAL', 'HIGH', 10.605],\n",
       "       [41, 'F', 'NORMAL', 'NORMAL', 22.905],\n",
       "       [31, 'M', 'HIGH', 'NORMAL', 17.069],\n",
       "       [26, 'M', 'LOW', 'NORMAL', 20.909],\n",
       "       [36, 'F', 'HIGH', 'HIGH', 11.198],\n",
       "       [26, 'F', 'HIGH', 'NORMAL', 19.161],\n",
       "       [19, 'F', 'HIGH', 'HIGH', 13.313],\n",
       "       [32, 'F', 'LOW', 'NORMAL', 10.84],\n",
       "       [60, 'M', 'HIGH', 'HIGH', 13.934],\n",
       "       [64, 'M', 'NORMAL', 'HIGH', 7.761],\n",
       "       [32, 'F', 'LOW', 'HIGH', 9.712],\n",
       "       [38, 'F', 'HIGH', 'NORMAL', 11.326],\n",
       "       [47, 'F', 'LOW', 'HIGH', 10.067],\n",
       "       [59, 'M', 'HIGH', 'HIGH', 13.935],\n",
       "       [51, 'F', 'NORMAL', 'HIGH', 13.597],\n",
       "       [69, 'M', 'LOW', 'HIGH', 15.478],\n",
       "       [37, 'F', 'HIGH', 'NORMAL', 23.091],\n",
       "       [50, 'F', 'NORMAL', 'NORMAL', 17.211],\n",
       "       [62, 'M', 'NORMAL', 'HIGH', 16.594],\n",
       "       [41, 'M', 'HIGH', 'NORMAL', 15.156],\n",
       "       [29, 'F', 'HIGH', 'HIGH', 29.45],\n",
       "       [42, 'F', 'LOW', 'NORMAL', 29.271],\n",
       "       [56, 'M', 'LOW', 'HIGH', 15.015],\n",
       "       [36, 'M', 'LOW', 'NORMAL', 11.424],\n",
       "       [58, 'F', 'LOW', 'HIGH', 38.247],\n",
       "       [56, 'F', 'HIGH', 'HIGH', 25.395],\n",
       "       [20, 'M', 'HIGH', 'NORMAL', 35.639],\n",
       "       [15, 'F', 'HIGH', 'NORMAL', 16.725],\n",
       "       [31, 'M', 'HIGH', 'NORMAL', 11.871],\n",
       "       [45, 'F', 'HIGH', 'HIGH', 12.854],\n",
       "       [28, 'F', 'LOW', 'HIGH', 13.127],\n",
       "       [56, 'M', 'NORMAL', 'HIGH', 8.966],\n",
       "       [22, 'M', 'HIGH', 'NORMAL', 28.294],\n",
       "       [37, 'M', 'LOW', 'NORMAL', 8.968],\n",
       "       [22, 'M', 'NORMAL', 'HIGH', 11.953],\n",
       "       [42, 'M', 'LOW', 'HIGH', 20.013],\n",
       "       [72, 'M', 'HIGH', 'NORMAL', 9.677],\n",
       "       [23, 'M', 'NORMAL', 'HIGH', 16.85],\n",
       "       [50, 'M', 'HIGH', 'HIGH', 7.49],\n",
       "       [47, 'F', 'NORMAL', 'NORMAL', 6.683],\n",
       "       [35, 'M', 'LOW', 'NORMAL', 9.17],\n",
       "       [65, 'F', 'LOW', 'NORMAL', 13.769],\n",
       "       [20, 'F', 'NORMAL', 'NORMAL', 9.281],\n",
       "       [51, 'M', 'HIGH', 'HIGH', 18.295],\n",
       "       [67, 'M', 'NORMAL', 'NORMAL', 9.514],\n",
       "       [40, 'F', 'NORMAL', 'HIGH', 10.103],\n",
       "       [32, 'F', 'HIGH', 'NORMAL', 10.292],\n",
       "       [61, 'F', 'HIGH', 'HIGH', 25.475],\n",
       "       [28, 'M', 'NORMAL', 'HIGH', 27.064],\n",
       "       [15, 'M', 'HIGH', 'NORMAL', 17.206],\n",
       "       [34, 'M', 'NORMAL', 'HIGH', 22.456],\n",
       "       [36, 'F', 'NORMAL', 'HIGH', 16.753],\n",
       "       [53, 'F', 'HIGH', 'NORMAL', 12.495],\n",
       "       [19, 'F', 'HIGH', 'NORMAL', 25.969],\n",
       "       [66, 'M', 'HIGH', 'HIGH', 16.347],\n",
       "       [35, 'M', 'NORMAL', 'NORMAL', 7.845],\n",
       "       [47, 'M', 'LOW', 'NORMAL', 33.542],\n",
       "       [32, 'F', 'NORMAL', 'HIGH', 7.477],\n",
       "       [70, 'F', 'NORMAL', 'HIGH', 20.489],\n",
       "       [52, 'M', 'LOW', 'NORMAL', 32.922],\n",
       "       [49, 'M', 'LOW', 'NORMAL', 13.598],\n",
       "       [24, 'M', 'NORMAL', 'HIGH', 25.786],\n",
       "       [42, 'F', 'HIGH', 'HIGH', 21.036],\n",
       "       [74, 'M', 'LOW', 'NORMAL', 11.939],\n",
       "       [55, 'F', 'HIGH', 'HIGH', 10.977],\n",
       "       [35, 'F', 'HIGH', 'HIGH', 12.894],\n",
       "       [51, 'M', 'HIGH', 'NORMAL', 11.343],\n",
       "       [69, 'F', 'NORMAL', 'HIGH', 10.065],\n",
       "       [49, 'M', 'HIGH', 'NORMAL', 6.269],\n",
       "       [64, 'F', 'LOW', 'NORMAL', 25.741],\n",
       "       [60, 'M', 'HIGH', 'NORMAL', 8.621],\n",
       "       [74, 'M', 'HIGH', 'NORMAL', 15.436],\n",
       "       [39, 'M', 'HIGH', 'HIGH', 9.664],\n",
       "       [61, 'M', 'NORMAL', 'HIGH', 9.443],\n",
       "       [37, 'F', 'LOW', 'NORMAL', 12.006],\n",
       "       [26, 'F', 'HIGH', 'NORMAL', 12.307],\n",
       "       [61, 'F', 'LOW', 'NORMAL', 7.34],\n",
       "       [22, 'M', 'LOW', 'HIGH', 8.151],\n",
       "       [49, 'M', 'HIGH', 'NORMAL', 8.7],\n",
       "       [68, 'M', 'HIGH', 'HIGH', 11.009],\n",
       "       [55, 'M', 'NORMAL', 'NORMAL', 7.261],\n",
       "       [72, 'F', 'LOW', 'NORMAL', 14.642],\n",
       "       [37, 'M', 'LOW', 'NORMAL', 16.724],\n",
       "       [49, 'M', 'LOW', 'HIGH', 10.537],\n",
       "       [31, 'M', 'HIGH', 'NORMAL', 11.227],\n",
       "       [53, 'M', 'LOW', 'HIGH', 22.963],\n",
       "       [59, 'F', 'LOW', 'HIGH', 10.444],\n",
       "       [34, 'F', 'LOW', 'NORMAL', 12.923],\n",
       "       [30, 'F', 'NORMAL', 'HIGH', 10.443],\n",
       "       [57, 'F', 'HIGH', 'NORMAL', 9.945],\n",
       "       [43, 'M', 'NORMAL', 'NORMAL', 12.859],\n",
       "       [21, 'F', 'HIGH', 'NORMAL', 28.632],\n",
       "       [16, 'M', 'HIGH', 'NORMAL', 19.007],\n",
       "       [38, 'M', 'LOW', 'HIGH', 18.295],\n",
       "       [58, 'F', 'LOW', 'HIGH', 26.645],\n",
       "       [57, 'F', 'NORMAL', 'HIGH', 14.216],\n",
       "       [51, 'F', 'LOW', 'NORMAL', 23.003],\n",
       "       [20, 'F', 'HIGH', 'HIGH', 11.262],\n",
       "       [28, 'F', 'NORMAL', 'HIGH', 12.879],\n",
       "       [45, 'M', 'LOW', 'NORMAL', 10.017],\n",
       "       [39, 'F', 'NORMAL', 'NORMAL', 17.225],\n",
       "       [41, 'F', 'LOW', 'NORMAL', 18.739],\n",
       "       [42, 'M', 'HIGH', 'NORMAL', 12.766],\n",
       "       [73, 'F', 'HIGH', 'HIGH', 18.348],\n",
       "       [48, 'M', 'HIGH', 'NORMAL', 10.446],\n",
       "       [25, 'M', 'NORMAL', 'HIGH', 19.011],\n",
       "       [39, 'M', 'NORMAL', 'HIGH', 15.969],\n",
       "       [67, 'F', 'NORMAL', 'HIGH', 15.891],\n",
       "       [22, 'F', 'HIGH', 'NORMAL', 22.818],\n",
       "       [59, 'F', 'NORMAL', 'HIGH', 13.884],\n",
       "       [20, 'F', 'LOW', 'NORMAL', 11.686],\n",
       "       [36, 'F', 'HIGH', 'NORMAL', 15.49],\n",
       "       [18, 'F', 'HIGH', 'HIGH', 37.188],\n",
       "       [57, 'F', 'NORMAL', 'NORMAL', 25.893],\n",
       "       [70, 'M', 'HIGH', 'HIGH', 9.849],\n",
       "       [47, 'M', 'HIGH', 'HIGH', 10.403],\n",
       "       [65, 'M', 'HIGH', 'NORMAL', 34.997],\n",
       "       [64, 'M', 'HIGH', 'NORMAL', 20.932],\n",
       "       [58, 'M', 'HIGH', 'HIGH', 18.991],\n",
       "       [23, 'M', 'HIGH', 'HIGH', 8.011],\n",
       "       [72, 'M', 'LOW', 'HIGH', 16.31],\n",
       "       [72, 'M', 'LOW', 'HIGH', 6.769],\n",
       "       [46, 'F', 'HIGH', 'HIGH', 34.686],\n",
       "       [56, 'F', 'LOW', 'HIGH', 11.567],\n",
       "       [16, 'M', 'LOW', 'HIGH', 12.006],\n",
       "       [52, 'M', 'NORMAL', 'HIGH', 9.894],\n",
       "       [23, 'M', 'NORMAL', 'NORMAL', 14.02],\n",
       "       [40, 'F', 'LOW', 'NORMAL', 11.349]], dtype=object)"
      ]
     },
     "execution_count": 168,
     "metadata": {},
     "output_type": "execute_result"
    }
   ],
   "source": [
    "x"
   ]
  },
  {
   "cell_type": "code",
   "execution_count": 169,
   "id": "f08dfb8f-febb-446e-84d8-418c398cfcb4",
   "metadata": {},
   "outputs": [],
   "source": [
    "y=df.iloc[:,-1].values"
   ]
  },
  {
   "cell_type": "code",
   "execution_count": 170,
   "id": "1c332b04-53ce-42ce-807b-9ef71d202bdc",
   "metadata": {},
   "outputs": [
    {
     "data": {
      "text/plain": [
       "array(['drugY', 'drugC', 'drugC', 'drugX', 'drugY', 'drugX', 'drugY',\n",
       "       'drugC', 'drugY', 'drugY', 'drugC', 'drugY', 'drugY', 'drugY',\n",
       "       'drugX', 'drugY', 'drugX', 'drugA', 'drugC', 'drugY', 'drugY',\n",
       "       'drugY', 'drugY', 'drugY', 'drugY', 'drugY', 'drugY', 'drugX',\n",
       "       'drugY', 'drugY', 'drugX', 'drugB', 'drugX', 'drugY', 'drugX',\n",
       "       'drugX', 'drugA', 'drugX', 'drugX', 'drugX', 'drugY', 'drugB',\n",
       "       'drugY', 'drugX', 'drugX', 'drugX', 'drugA', 'drugC', 'drugY',\n",
       "       'drugY', 'drugY', 'drugX', 'drugY', 'drugY', 'drugB', 'drugC',\n",
       "       'drugB', 'drugY', 'drugX', 'drugY', 'drugY', 'drugA', 'drugY',\n",
       "       'drugX', 'drugB', 'drugY', 'drugA', 'drugX', 'drugY', 'drugY',\n",
       "       'drugB', 'drugY', 'drugX', 'drugY', 'drugY', 'drugY', 'drugA',\n",
       "       'drugY', 'drugA', 'drugX', 'drugB', 'drugX', 'drugC', 'drugA',\n",
       "       'drugC', 'drugB', 'drugX', 'drugY', 'drugY', 'drugY', 'drugY',\n",
       "       'drugY', 'drugY', 'drugY', 'drugY', 'drugX', 'drugY', 'drugY',\n",
       "       'drugY', 'drugY', 'drugA', 'drugA', 'drugC', 'drugX', 'drugY',\n",
       "       'drugX', 'drugX', 'drugY', 'drugB', 'drugY', 'drugA', 'drugX',\n",
       "       'drugX', 'drugX', 'drugX', 'drugY', 'drugX', 'drugX', 'drugA',\n",
       "       'drugY', 'drugY', 'drugY', 'drugY', 'drugY', 'drugB', 'drugY',\n",
       "       'drugY', 'drugX', 'drugY', 'drugX', 'drugY', 'drugY', 'drugX',\n",
       "       'drugY', 'drugY', 'drugX', 'drugB', 'drugA', 'drugB', 'drugX',\n",
       "       'drugA', 'drugY', 'drugB', 'drugY', 'drugA', 'drugX', 'drugX',\n",
       "       'drugA', 'drugX', 'drugC', 'drugA', 'drugB', 'drugX', 'drugX',\n",
       "       'drugY', 'drugC', 'drugA', 'drugY', 'drugC', 'drugX', 'drugX',\n",
       "       'drugB', 'drugX', 'drugY', 'drugY', 'drugY', 'drugY', 'drugX',\n",
       "       'drugY', 'drugA', 'drugX', 'drugX', 'drugY', 'drugY', 'drugA',\n",
       "       'drugY', 'drugA', 'drugY', 'drugY', 'drugY', 'drugY', 'drugX',\n",
       "       'drugX', 'drugY', 'drugY', 'drugY', 'drugB', 'drugA', 'drugY',\n",
       "       'drugY', 'drugY', 'drugA', 'drugY', 'drugC', 'drugY', 'drugC',\n",
       "       'drugC', 'drugX', 'drugX', 'drugX'], dtype=object)"
      ]
     },
     "execution_count": 170,
     "metadata": {},
     "output_type": "execute_result"
    }
   ],
   "source": [
    "y"
   ]
  },
  {
   "cell_type": "code",
   "execution_count": 171,
   "id": "20510a31-fc05-4ab2-bebf-fda5dbf94685",
   "metadata": {},
   "outputs": [],
   "source": [
    "from sklearn.preprocessing import LabelEncoder"
   ]
  },
  {
   "cell_type": "code",
   "execution_count": 172,
   "id": "b546402f-f9a0-4b9a-8e42-e82ff7737f5f",
   "metadata": {},
   "outputs": [],
   "source": [
    "le=LabelEncoder()"
   ]
  },
  {
   "cell_type": "code",
   "execution_count": 173,
   "id": "3b9c1e81-05a1-4321-9daa-8093716b7f5e",
   "metadata": {},
   "outputs": [],
   "source": [
    "for i in range(0,4):\n",
    "    x[:,i]=le.fit_transform(x[:,i])"
   ]
  },
  {
   "cell_type": "code",
   "execution_count": 174,
   "id": "5ff48458-bc0e-4f75-a3b7-3d404e9ab238",
   "metadata": {},
   "outputs": [
    {
     "data": {
      "text/plain": [
       "array([[8, 0, 0, 0, 25.355],\n",
       "       [30, 1, 1, 0, 13.093],\n",
       "       [30, 1, 1, 0, 10.114],\n",
       "       [12, 0, 2, 0, 7.798],\n",
       "       [44, 0, 1, 0, 18.043],\n",
       "       [7, 0, 2, 0, 8.607],\n",
       "       [32, 0, 2, 0, 16.275],\n",
       "       [25, 1, 1, 0, 11.037],\n",
       "       [43, 1, 2, 0, 15.171],\n",
       "       [27, 1, 1, 1, 19.368],\n",
       "       [30, 0, 1, 0, 11.767],\n",
       "       [18, 0, 0, 1, 19.199],\n",
       "       [27, 1, 1, 0, 15.376],\n",
       "       [56, 0, 1, 0, 20.942],\n",
       "       [33, 0, 2, 0, 12.703],\n",
       "       [1, 0, 0, 1, 15.516],\n",
       "       [52, 1, 1, 1, 11.455],\n",
       "       [27, 1, 0, 0, 13.972],\n",
       "       [8, 1, 1, 0, 7.298],\n",
       "       [16, 0, 0, 1, 25.974],\n",
       "       [40, 1, 1, 1, 19.128],\n",
       "       [46, 1, 2, 0, 25.917],\n",
       "       [30, 1, 1, 1, 30.568],\n",
       "       [31, 0, 1, 0, 15.036],\n",
       "       [17, 0, 1, 0, 33.486],\n",
       "       [12, 0, 0, 1, 18.809],\n",
       "       [15, 1, 0, 0, 30.366],\n",
       "       [32, 0, 2, 1, 9.381],\n",
       "       [23, 0, 1, 1, 22.697],\n",
       "       [28, 1, 1, 0, 17.951],\n",
       "       [3, 0, 2, 1, 8.75],\n",
       "       [56, 1, 0, 0, 9.567],\n",
       "       [32, 1, 1, 1, 11.014],\n",
       "       [48, 0, 0, 1, 31.876],\n",
       "       [36, 1, 2, 0, 14.133],\n",
       "       [29, 1, 2, 1, 7.285],\n",
       "       [16, 1, 0, 1, 9.445],\n",
       "       [23, 1, 1, 1, 13.938],\n",
       "       [23, 0, 2, 1, 9.709],\n",
       "       [0, 1, 2, 0, 9.084],\n",
       "       [55, 0, 2, 0, 19.221],\n",
       "       [41, 0, 0, 1, 14.239],\n",
       "       [33, 1, 2, 1, 15.79],\n",
       "       [8, 1, 2, 0, 12.26],\n",
       "       [33, 0, 2, 1, 12.295],\n",
       "       [49, 0, 2, 1, 8.107],\n",
       "       [21, 0, 0, 0, 13.091],\n",
       "       [51, 1, 1, 0, 10.291],\n",
       "       [8, 1, 2, 0, 31.686],\n",
       "       [12, 0, 1, 0, 19.796],\n",
       "       [41, 0, 0, 0, 19.416],\n",
       "       [50, 1, 2, 1, 10.898],\n",
       "       [45, 1, 1, 1, 27.183],\n",
       "       [9, 0, 0, 1, 18.457],\n",
       "       [51, 0, 0, 1, 10.189],\n",
       "       [11, 0, 1, 0, 14.16],\n",
       "       [48, 1, 0, 1, 11.34],\n",
       "       [24, 1, 0, 0, 27.826],\n",
       "       [43, 1, 2, 1, 10.091],\n",
       "       [18, 1, 0, 0, 18.703],\n",
       "       [22, 0, 1, 1, 29.875],\n",
       "       [9, 1, 0, 1, 9.475],\n",
       "       [50, 1, 1, 1, 20.693],\n",
       "       [28, 1, 1, 1, 8.37],\n",
       "       [43, 0, 0, 0, 13.303],\n",
       "       [51, 0, 2, 1, 27.05],\n",
       "       [13, 1, 0, 0, 12.856],\n",
       "       [2, 1, 2, 1, 10.832],\n",
       "       [37, 1, 2, 0, 24.658],\n",
       "       [3, 0, 0, 1, 24.276],\n",
       "       [53, 1, 0, 0, 13.967],\n",
       "       [12, 0, 2, 0, 19.675],\n",
       "       [9, 0, 2, 0, 10.605],\n",
       "       [25, 0, 2, 1, 22.905],\n",
       "       [15, 1, 0, 1, 17.069],\n",
       "       [11, 1, 1, 1, 20.909],\n",
       "       [20, 0, 0, 0, 11.198],\n",
       "       [11, 0, 0, 1, 19.161],\n",
       "       [4, 0, 0, 0, 13.313],\n",
       "       [16, 0, 1, 1, 10.84],\n",
       "       [43, 1, 0, 0, 13.934],\n",
       "       [47, 1, 2, 0, 7.761],\n",
       "       [16, 0, 1, 0, 9.712],\n",
       "       [22, 0, 0, 1, 11.326],\n",
       "       [30, 0, 1, 0, 10.067],\n",
       "       [42, 1, 0, 0, 13.935],\n",
       "       [34, 0, 2, 0, 13.597],\n",
       "       [52, 1, 1, 0, 15.478],\n",
       "       [21, 0, 0, 1, 23.091],\n",
       "       [33, 0, 2, 1, 17.211],\n",
       "       [45, 1, 2, 0, 16.594],\n",
       "       [25, 1, 0, 1, 15.156],\n",
       "       [13, 0, 0, 0, 29.45],\n",
       "       [26, 0, 1, 1, 29.271],\n",
       "       [39, 1, 1, 0, 15.015],\n",
       "       [20, 1, 1, 1, 11.424],\n",
       "       [41, 0, 1, 0, 38.247],\n",
       "       [39, 0, 0, 0, 25.395],\n",
       "       [5, 1, 0, 1, 35.639],\n",
       "       [0, 0, 0, 1, 16.725],\n",
       "       [15, 1, 0, 1, 11.871],\n",
       "       [28, 0, 0, 0, 12.854],\n",
       "       [12, 0, 1, 0, 13.127],\n",
       "       [39, 1, 2, 0, 8.966],\n",
       "       [7, 1, 0, 1, 28.294],\n",
       "       [21, 1, 1, 1, 8.968],\n",
       "       [7, 1, 2, 0, 11.953],\n",
       "       [26, 1, 1, 0, 20.013],\n",
       "       [54, 1, 0, 1, 9.677],\n",
       "       [8, 1, 2, 0, 16.85],\n",
       "       [33, 1, 0, 0, 7.49],\n",
       "       [30, 0, 2, 1, 6.683],\n",
       "       [19, 1, 1, 1, 9.17],\n",
       "       [48, 0, 1, 1, 13.769],\n",
       "       [5, 0, 2, 1, 9.281],\n",
       "       [34, 1, 0, 0, 18.295],\n",
       "       [50, 1, 2, 1, 9.514],\n",
       "       [24, 0, 2, 0, 10.103],\n",
       "       [16, 0, 0, 1, 10.292],\n",
       "       [44, 0, 0, 0, 25.475],\n",
       "       [12, 1, 2, 0, 27.064],\n",
       "       [0, 1, 0, 1, 17.206],\n",
       "       [18, 1, 2, 0, 22.456],\n",
       "       [20, 0, 2, 0, 16.753],\n",
       "       [36, 0, 0, 1, 12.495],\n",
       "       [4, 0, 0, 1, 25.969],\n",
       "       [49, 1, 0, 0, 16.347],\n",
       "       [19, 1, 2, 1, 7.845],\n",
       "       [30, 1, 1, 1, 33.542],\n",
       "       [16, 0, 2, 0, 7.477],\n",
       "       [53, 0, 2, 0, 20.489],\n",
       "       [35, 1, 1, 1, 32.922],\n",
       "       [32, 1, 1, 1, 13.598],\n",
       "       [9, 1, 2, 0, 25.786],\n",
       "       [26, 0, 0, 0, 21.036],\n",
       "       [56, 1, 1, 1, 11.939],\n",
       "       [38, 0, 0, 0, 10.977],\n",
       "       [19, 0, 0, 0, 12.894],\n",
       "       [34, 1, 0, 1, 11.343],\n",
       "       [52, 0, 2, 0, 10.065],\n",
       "       [32, 1, 0, 1, 6.269],\n",
       "       [47, 0, 1, 1, 25.741],\n",
       "       [43, 1, 0, 1, 8.621],\n",
       "       [56, 1, 0, 1, 15.436],\n",
       "       [23, 1, 0, 0, 9.664],\n",
       "       [44, 1, 2, 0, 9.443],\n",
       "       [21, 0, 1, 1, 12.006],\n",
       "       [11, 0, 0, 1, 12.307],\n",
       "       [44, 0, 1, 1, 7.34],\n",
       "       [7, 1, 1, 0, 8.151],\n",
       "       [32, 1, 0, 1, 8.7],\n",
       "       [51, 1, 0, 0, 11.009],\n",
       "       [38, 1, 2, 1, 7.261],\n",
       "       [54, 0, 1, 1, 14.642],\n",
       "       [21, 1, 1, 1, 16.724],\n",
       "       [32, 1, 1, 0, 10.537],\n",
       "       [15, 1, 0, 1, 11.227],\n",
       "       [36, 1, 1, 0, 22.963],\n",
       "       [42, 0, 1, 0, 10.444],\n",
       "       [18, 0, 1, 1, 12.923],\n",
       "       [14, 0, 2, 0, 10.443],\n",
       "       [40, 0, 0, 1, 9.945],\n",
       "       [27, 1, 2, 1, 12.859],\n",
       "       [6, 0, 0, 1, 28.632],\n",
       "       [1, 1, 0, 1, 19.007],\n",
       "       [22, 1, 1, 0, 18.295],\n",
       "       [41, 0, 1, 0, 26.645],\n",
       "       [40, 0, 2, 0, 14.216],\n",
       "       [34, 0, 1, 1, 23.003],\n",
       "       [5, 0, 0, 0, 11.262],\n",
       "       [12, 0, 2, 0, 12.879],\n",
       "       [28, 1, 1, 1, 10.017],\n",
       "       [23, 0, 2, 1, 17.225],\n",
       "       [25, 0, 1, 1, 18.739],\n",
       "       [26, 1, 0, 1, 12.766],\n",
       "       [55, 0, 0, 0, 18.348],\n",
       "       [31, 1, 0, 1, 10.446],\n",
       "       [10, 1, 2, 0, 19.011],\n",
       "       [23, 1, 2, 0, 15.969],\n",
       "       [50, 0, 2, 0, 15.891],\n",
       "       [7, 0, 0, 1, 22.818],\n",
       "       [42, 0, 2, 0, 13.884],\n",
       "       [5, 0, 1, 1, 11.686],\n",
       "       [20, 0, 0, 1, 15.49],\n",
       "       [3, 0, 0, 0, 37.188],\n",
       "       [40, 0, 2, 1, 25.893],\n",
       "       [53, 1, 0, 0, 9.849],\n",
       "       [30, 1, 0, 0, 10.403],\n",
       "       [48, 1, 0, 1, 34.997],\n",
       "       [47, 1, 0, 1, 20.932],\n",
       "       [41, 1, 0, 0, 18.991],\n",
       "       [8, 1, 0, 0, 8.011],\n",
       "       [54, 1, 1, 0, 16.31],\n",
       "       [54, 1, 1, 0, 6.769],\n",
       "       [29, 0, 0, 0, 34.686],\n",
       "       [39, 0, 1, 0, 11.567],\n",
       "       [1, 1, 1, 0, 12.006],\n",
       "       [35, 1, 2, 0, 9.894],\n",
       "       [8, 1, 2, 1, 14.02],\n",
       "       [24, 0, 1, 1, 11.349]], dtype=object)"
      ]
     },
     "execution_count": 174,
     "metadata": {},
     "output_type": "execute_result"
    }
   ],
   "source": [
    "x"
   ]
  },
  {
   "cell_type": "raw",
   "id": "340b876e-bee8-4398-8019-e06d45ec01fe",
   "metadata": {},
   "source": []
  },
  {
   "cell_type": "code",
   "execution_count": 175,
   "id": "afe3e801-34f9-453f-a8cc-74781fe1e5e1",
   "metadata": {},
   "outputs": [],
   "source": [
    "y=le.fit_transform(y)"
   ]
  },
  {
   "cell_type": "code",
   "execution_count": 176,
   "id": "657dc920-0e75-4c4f-812f-572786ee4ce5",
   "metadata": {},
   "outputs": [
    {
     "data": {
      "text/plain": [
       "array([4, 2, 2, 3, 4, 3, 4, 2, 4, 4, 2, 4, 4, 4, 3, 4, 3, 0, 2, 4, 4, 4,\n",
       "       4, 4, 4, 4, 4, 3, 4, 4, 3, 1, 3, 4, 3, 3, 0, 3, 3, 3, 4, 1, 4, 3,\n",
       "       3, 3, 0, 2, 4, 4, 4, 3, 4, 4, 1, 2, 1, 4, 3, 4, 4, 0, 4, 3, 1, 4,\n",
       "       0, 3, 4, 4, 1, 4, 3, 4, 4, 4, 0, 4, 0, 3, 1, 3, 2, 0, 2, 1, 3, 4,\n",
       "       4, 4, 4, 4, 4, 4, 4, 3, 4, 4, 4, 4, 0, 0, 2, 3, 4, 3, 3, 4, 1, 4,\n",
       "       0, 3, 3, 3, 3, 4, 3, 3, 0, 4, 4, 4, 4, 4, 1, 4, 4, 3, 4, 3, 4, 4,\n",
       "       3, 4, 4, 3, 1, 0, 1, 3, 0, 4, 1, 4, 0, 3, 3, 0, 3, 2, 0, 1, 3, 3,\n",
       "       4, 2, 0, 4, 2, 3, 3, 1, 3, 4, 4, 4, 4, 3, 4, 0, 3, 3, 4, 4, 0, 4,\n",
       "       0, 4, 4, 4, 4, 3, 3, 4, 4, 4, 1, 0, 4, 4, 4, 0, 4, 2, 4, 2, 2, 3,\n",
       "       3, 3])"
      ]
     },
     "execution_count": 176,
     "metadata": {},
     "output_type": "execute_result"
    }
   ],
   "source": [
    "y"
   ]
  },
  {
   "cell_type": "code",
   "execution_count": 177,
   "id": "48071578-026b-42c4-8522-ce8d4b7efdb2",
   "metadata": {},
   "outputs": [],
   "source": [
    "from sklearn.model_selection import train_test_split"
   ]
  },
  {
   "cell_type": "code",
   "execution_count": 178,
   "id": "4493e33b-4e4a-4b10-824f-8a445de59eb2",
   "metadata": {},
   "outputs": [],
   "source": [
    "x_train,x_test,y_train,y_test=train_test_split(x,y,test_size=0.23, random_state=21)"
   ]
  },
  {
   "cell_type": "code",
   "execution_count": 179,
   "id": "98aaf527-971a-4db2-899f-35773d7a1289",
   "metadata": {},
   "outputs": [],
   "source": [
    "from sklearn.tree import DecisionTreeClassifier\n"
   ]
  },
  {
   "cell_type": "code",
   "execution_count": 180,
   "id": "da7fb26d-4c3d-4f9a-b78d-a3c49047a4c6",
   "metadata": {},
   "outputs": [],
   "source": [
    "model=DecisionTreeClassifier()"
   ]
  },
  {
   "cell_type": "code",
   "execution_count": 181,
   "id": "10270535-b0c7-44f9-b5a6-07127fd93891",
   "metadata": {},
   "outputs": [
    {
     "data": {
      "text/html": [
       "<style>#sk-container-id-11 {color: black;background-color: white;}#sk-container-id-11 pre{padding: 0;}#sk-container-id-11 div.sk-toggleable {background-color: white;}#sk-container-id-11 label.sk-toggleable__label {cursor: pointer;display: block;width: 100%;margin-bottom: 0;padding: 0.3em;box-sizing: border-box;text-align: center;}#sk-container-id-11 label.sk-toggleable__label-arrow:before {content: \"▸\";float: left;margin-right: 0.25em;color: #696969;}#sk-container-id-11 label.sk-toggleable__label-arrow:hover:before {color: black;}#sk-container-id-11 div.sk-estimator:hover label.sk-toggleable__label-arrow:before {color: black;}#sk-container-id-11 div.sk-toggleable__content {max-height: 0;max-width: 0;overflow: hidden;text-align: left;background-color: #f0f8ff;}#sk-container-id-11 div.sk-toggleable__content pre {margin: 0.2em;color: black;border-radius: 0.25em;background-color: #f0f8ff;}#sk-container-id-11 input.sk-toggleable__control:checked~div.sk-toggleable__content {max-height: 200px;max-width: 100%;overflow: auto;}#sk-container-id-11 input.sk-toggleable__control:checked~label.sk-toggleable__label-arrow:before {content: \"▾\";}#sk-container-id-11 div.sk-estimator input.sk-toggleable__control:checked~label.sk-toggleable__label {background-color: #d4ebff;}#sk-container-id-11 div.sk-label input.sk-toggleable__control:checked~label.sk-toggleable__label {background-color: #d4ebff;}#sk-container-id-11 input.sk-hidden--visually {border: 0;clip: rect(1px 1px 1px 1px);clip: rect(1px, 1px, 1px, 1px);height: 1px;margin: -1px;overflow: hidden;padding: 0;position: absolute;width: 1px;}#sk-container-id-11 div.sk-estimator {font-family: monospace;background-color: #f0f8ff;border: 1px dotted black;border-radius: 0.25em;box-sizing: border-box;margin-bottom: 0.5em;}#sk-container-id-11 div.sk-estimator:hover {background-color: #d4ebff;}#sk-container-id-11 div.sk-parallel-item::after {content: \"\";width: 100%;border-bottom: 1px solid gray;flex-grow: 1;}#sk-container-id-11 div.sk-label:hover label.sk-toggleable__label {background-color: #d4ebff;}#sk-container-id-11 div.sk-serial::before {content: \"\";position: absolute;border-left: 1px solid gray;box-sizing: border-box;top: 0;bottom: 0;left: 50%;z-index: 0;}#sk-container-id-11 div.sk-serial {display: flex;flex-direction: column;align-items: center;background-color: white;padding-right: 0.2em;padding-left: 0.2em;position: relative;}#sk-container-id-11 div.sk-item {position: relative;z-index: 1;}#sk-container-id-11 div.sk-parallel {display: flex;align-items: stretch;justify-content: center;background-color: white;position: relative;}#sk-container-id-11 div.sk-item::before, #sk-container-id-11 div.sk-parallel-item::before {content: \"\";position: absolute;border-left: 1px solid gray;box-sizing: border-box;top: 0;bottom: 0;left: 50%;z-index: -1;}#sk-container-id-11 div.sk-parallel-item {display: flex;flex-direction: column;z-index: 1;position: relative;background-color: white;}#sk-container-id-11 div.sk-parallel-item:first-child::after {align-self: flex-end;width: 50%;}#sk-container-id-11 div.sk-parallel-item:last-child::after {align-self: flex-start;width: 50%;}#sk-container-id-11 div.sk-parallel-item:only-child::after {width: 0;}#sk-container-id-11 div.sk-dashed-wrapped {border: 1px dashed gray;margin: 0 0.4em 0.5em 0.4em;box-sizing: border-box;padding-bottom: 0.4em;background-color: white;}#sk-container-id-11 div.sk-label label {font-family: monospace;font-weight: bold;display: inline-block;line-height: 1.2em;}#sk-container-id-11 div.sk-label-container {text-align: center;}#sk-container-id-11 div.sk-container {/* jupyter's `normalize.less` sets `[hidden] { display: none; }` but bootstrap.min.css set `[hidden] { display: none !important; }` so we also need the `!important` here to be able to override the default hidden behavior on the sphinx rendered scikit-learn.org. See: https://github.com/scikit-learn/scikit-learn/issues/21755 */display: inline-block !important;position: relative;}#sk-container-id-11 div.sk-text-repr-fallback {display: none;}</style><div id=\"sk-container-id-11\" class=\"sk-top-container\"><div class=\"sk-text-repr-fallback\"><pre>DecisionTreeClassifier()</pre><b>In a Jupyter environment, please rerun this cell to show the HTML representation or trust the notebook. <br />On GitHub, the HTML representation is unable to render, please try loading this page with nbviewer.org.</b></div><div class=\"sk-container\" hidden><div class=\"sk-item\"><div class=\"sk-estimator sk-toggleable\"><input class=\"sk-toggleable__control sk-hidden--visually\" id=\"sk-estimator-id-11\" type=\"checkbox\" checked><label for=\"sk-estimator-id-11\" class=\"sk-toggleable__label sk-toggleable__label-arrow\">DecisionTreeClassifier</label><div class=\"sk-toggleable__content\"><pre>DecisionTreeClassifier()</pre></div></div></div></div></div>"
      ],
      "text/plain": [
       "DecisionTreeClassifier()"
      ]
     },
     "execution_count": 181,
     "metadata": {},
     "output_type": "execute_result"
    }
   ],
   "source": [
    "model.fit(x_train,y_train)"
   ]
  },
  {
   "cell_type": "code",
   "execution_count": 182,
   "id": "274aeaa1-cbbe-4d13-8b3a-1789ea399587",
   "metadata": {},
   "outputs": [
    {
     "data": {
      "text/plain": [
       "array([0, 4, 0, 4, 3, 4, 4, 4, 3, 4, 4, 4, 3, 3, 4, 3, 0, 4, 0, 4, 1, 4,\n",
       "       4, 3, 0, 4, 4, 3, 2, 4, 4, 4, 0, 4, 2, 4, 1, 4, 0, 1, 0, 3, 3, 3,\n",
       "       3, 1])"
      ]
     },
     "execution_count": 182,
     "metadata": {},
     "output_type": "execute_result"
    }
   ],
   "source": [
    "y_pred=model.predict(x_test)\n",
    "y_pred\n"
   ]
  },
  {
   "cell_type": "code",
   "execution_count": 183,
   "id": "b7cd4013-1ce4-4830-bc7d-367e4aefc46d",
   "metadata": {},
   "outputs": [
    {
     "data": {
      "text/plain": [
       "array([[23, 1, 0, 0, 9.664],\n",
       "       [27, 1, 1, 1, 19.368],\n",
       "       [27, 1, 0, 0, 13.972],\n",
       "       [40, 1, 1, 1, 19.128],\n",
       "       [49, 0, 2, 1, 8.107],\n",
       "       [32, 0, 2, 0, 16.275],\n",
       "       [45, 1, 1, 1, 27.183],\n",
       "       [25, 1, 0, 1, 15.156],\n",
       "       [16, 0, 2, 0, 7.477],\n",
       "       [20, 0, 0, 1, 15.49],\n",
       "       [46, 1, 2, 0, 25.917],\n",
       "       [33, 1, 2, 1, 15.79],\n",
       "       [21, 1, 1, 1, 8.968],\n",
       "       [44, 1, 2, 0, 9.443],\n",
       "       [52, 1, 1, 0, 15.478],\n",
       "       [38, 1, 2, 1, 7.261],\n",
       "       [36, 0, 0, 1, 12.495],\n",
       "       [13, 0, 0, 0, 29.45],\n",
       "       [28, 0, 0, 0, 12.854],\n",
       "       [56, 0, 1, 0, 20.942],\n",
       "       [54, 1, 0, 1, 9.677],\n",
       "       [11, 1, 1, 1, 20.909],\n",
       "       [55, 0, 2, 0, 19.221],\n",
       "       [8, 1, 2, 1, 14.02],\n",
       "       [8, 1, 0, 0, 8.011],\n",
       "       [54, 1, 1, 0, 16.31],\n",
       "       [29, 0, 0, 0, 34.686],\n",
       "       [24, 0, 2, 0, 10.103],\n",
       "       [30, 1, 1, 0, 10.114],\n",
       "       [35, 1, 1, 1, 32.922],\n",
       "       [16, 0, 0, 1, 25.974],\n",
       "       [56, 1, 0, 1, 15.436],\n",
       "       [11, 0, 0, 1, 12.307],\n",
       "       [30, 1, 1, 1, 30.568],\n",
       "       [12, 0, 1, 0, 13.127],\n",
       "       [22, 0, 1, 1, 29.875],\n",
       "       [38, 0, 0, 0, 10.977],\n",
       "       [34, 0, 1, 1, 23.003],\n",
       "       [34, 1, 0, 1, 11.343],\n",
       "       [51, 0, 0, 1, 10.189],\n",
       "       [31, 1, 0, 1, 10.446],\n",
       "       [30, 0, 2, 1, 6.683],\n",
       "       [5, 0, 2, 1, 9.281],\n",
       "       [33, 0, 2, 0, 12.703],\n",
       "       [7, 1, 2, 0, 11.953],\n",
       "       [42, 1, 0, 0, 13.935]], dtype=object)"
      ]
     },
     "execution_count": 183,
     "metadata": {},
     "output_type": "execute_result"
    }
   ],
   "source": [
    "x_test"
   ]
  },
  {
   "cell_type": "code",
   "execution_count": 184,
   "id": "f00369ce-fa58-472c-8969-2e5a0c637110",
   "metadata": {},
   "outputs": [
    {
     "data": {
      "text/plain": [
       "array([0, 4, 0, 4, 3, 4, 4, 4, 3, 4, 4, 4, 3, 3, 4, 3, 1, 4, 0, 4, 1, 4,\n",
       "       4, 3, 0, 4, 4, 3, 2, 4, 4, 4, 0, 4, 2, 4, 1, 4, 1, 1, 0, 3, 3, 3,\n",
       "       3, 1])"
      ]
     },
     "execution_count": 184,
     "metadata": {},
     "output_type": "execute_result"
    }
   ],
   "source": [
    "y_test"
   ]
  },
  {
   "cell_type": "code",
   "execution_count": 185,
   "id": "56d662aa-c79a-488d-8dad-6cbfa0deb7f4",
   "metadata": {},
   "outputs": [],
   "source": [
    "from sklearn.metrics import confusion_matrix , accuracy_score,precision_score,recall_score"
   ]
  },
  {
   "cell_type": "code",
   "execution_count": 186,
   "id": "a000457a-2f6e-483f-8750-501e58b184eb",
   "metadata": {},
   "outputs": [],
   "source": [
    "p = precision_score(y_test, y_pred, average='macro') \n",
    "a = accuracy_score(y_test, y_pred)\n",
    "r = recall_score(y_test, y_pred, average='macro')"
   ]
  },
  {
   "cell_type": "code",
   "execution_count": 187,
   "id": "74042ac0-a234-4e47-90ca-182971bede4a",
   "metadata": {},
   "outputs": [
    {
     "name": "stdout",
     "output_type": "stream",
     "text": [
      "accuracy :  95.65217391304348\n",
      "precision is :  0.95\n",
      "recall is :  0.9333333333333332\n"
     ]
    }
   ],
   "source": [
    "print(\"accuracy : \",a*100)\n",
    "print(\"precision is : \", p)\n",
    "print(\"recall is : \",r)"
   ]
  },
  {
   "cell_type": "code",
   "execution_count": null,
   "id": "5336ff82-8316-4cc1-8f1c-96276506a362",
   "metadata": {},
   "outputs": [],
   "source": []
  },
  {
   "cell_type": "code",
   "execution_count": null,
   "id": "fbaa6710-a869-4673-92fa-80943a494f23",
   "metadata": {},
   "outputs": [],
   "source": []
  }
 ],
 "metadata": {
  "kernelspec": {
   "display_name": "Python 3 (ipykernel)",
   "language": "python",
   "name": "python3"
  },
  "language_info": {
   "codemirror_mode": {
    "name": "ipython",
    "version": 3
   },
   "file_extension": ".py",
   "mimetype": "text/x-python",
   "name": "python",
   "nbconvert_exporter": "python",
   "pygments_lexer": "ipython3",
   "version": "3.11.7"
  }
 },
 "nbformat": 4,
 "nbformat_minor": 5
}
